{
 "cells": [
  {
   "cell_type": "markdown",
   "metadata": {},
   "source": [
    "# How to read and examine CETB files\n",
    "\n",
    "This notebook shows:\n",
    "* how to open, read, examine and display CETB file data\n",
    "* how to access EASE-Grid 2.0 projection information and get the map coordinates of the upper left corner\n",
    "* how to convert CETB dates from \"days since epoch\" to Gregorian dates\n",
    "* how to use the cetbtools python package to do map transformations for lat/lon to/from row/col\n",
    "\n",
    "As of this writing, (March 2017), we have delivered final processing of the CETB data product for the AMSR-E time period (2001-2011), and are delivering each of the SSM/I sensor data (beginning 1987) in turn.  Find out what the latest publicly-available CETB data from NSIDC are at this location:\n",
    "\n",
    "http://nsidc.org/data/nsidc-0630\n",
    "\n",
    "For this notebook, I have downloaded some final (v1.1) SSM/I F08 data to my local directory ~/cetb_data/v1.1/.  If you wish to run this notebook on your local machine, you may have to adjust the paths and/or filenames.\n",
    "\n",
    "## Import required packages for this notebook\n",
    "\n",
    "Begin by setting up inline matplotlib display, and importing the netCDF4 reader package:\n",
    "\n",
    "(Don't worry of you see a warning about font cache on your system, you can safely ignore it.)\n"
   ]
  },
  {
   "cell_type": "code",
   "execution_count": null,
   "metadata": {
    "collapsed": false
   },
   "outputs": [],
   "source": [
    "%pylab notebook\n",
    "import matplotlib.pyplot as plt\n",
    "from netCDF4 import Dataset, num2date\n",
    "import numpy as np\n",
    "import os\n",
    "from pylab import rcParams\n",
    "rcParams['figure.figsize'] = 12, 10"
   ]
  },
  {
   "cell_type": "markdown",
   "metadata": {},
   "source": [
    "## Open a CETB file and examine the TB data:\n",
    "\n",
    "(You will likely have to change this to the location on your drive where you have downloaded some CETB data):"
   ]
  },
  {
   "cell_type": "code",
   "execution_count": null,
   "metadata": {
    "collapsed": false
   },
   "outputs": [],
   "source": [
    "%cd ~/cetb_data/v1.1\n",
    "%ls *.nc"
   ]
  },
  {
   "cell_type": "markdown",
   "metadata": {},
   "source": [
    "The User Guide tab on the data page at NSIDC:\n",
    "\n",
    "http://nsidc.org/data/nsidc-0630\n",
    "\n",
    "has a section called \"File Naming Convention\" to help understand these filenames.\n",
    "\n",
    "Choose a file to open, and display the file-level global attributes.  These include information like the product version number, the source swath files used to derive this CETB file, the date the CETB grid was produced, and discovery metadata like spatial and temporal coverages:"
   ]
  },
  {
   "cell_type": "code",
   "execution_count": null,
   "metadata": {
    "collapsed": false,
    "scrolled": false
   },
   "outputs": [],
   "source": [
    "filename = \"NSIDC-0630-EASE2_T3.125km-F08_SSMI-1987305-37H-A-SIR-CSU-v1.1.nc\"\n",
    "f = Dataset(filename, \"r\", format=\"NETCDF4\")\n",
    "f"
   ]
  },
  {
   "cell_type": "markdown",
   "metadata": {},
   "source": [
    "NetCDF files contain metadata and several kinds of variables.  \"Dimension\" variables are special, in that the name of the variable and the size of the variable are called the same thing.  For example, in the last couple lines of output here you will see \"time(time)\" and \"y(y)\" and \"x(x)\".  These are the dimension variables for the CETB data.\n",
    "\n",
    "Note that this file contains:\n",
    "* two file attributes called \"geospatial_x_resolution\" and \"geospatial_y_resolution\", which store the grid resolution in meters\n",
    "* 3 dimension variables (time, y and x) and \n",
    "* 1 variable with only metadata called crs() and\n",
    "* 5 data (TB, TB_num_samples, Incidence_angle, TB_std_dev and TB_time)\n",
    "\n",
    "## Get the projection information\n",
    "\n",
    "The crs variable contains \"coordinate reference system\" information about the projection used for this file.  The geospatial_x_resolution and geospatial_y_resolution tell you about the grid resolution of the data.\n",
    "\n",
    "To read the crs variable, use:\n"
   ]
  },
  {
   "cell_type": "code",
   "execution_count": null,
   "metadata": {
    "collapsed": false
   },
   "outputs": [],
   "source": [
    "crs = f.variables['crs']\n",
    "crs"
   ]
  },
  {
   "cell_type": "markdown",
   "metadata": {},
   "source": [
    "We have encoded the projection information in several ways in this file, including:\n",
    "\n",
    "* CF-compliant projection attributes, including grid_mapping_name, longitude_of_central_meridian, standard_parallel, false_easting, false_northing, semi_major_axis and inverse_flattening\n",
    "* proj4txt: the proj4 string for this projection\n",
    "* srid: the EPSG code for this projection\n",
    "* crs_wkt: the \"well-known text\" string that describes the projection\n",
    "* long_name: the NSIDC mapx grid paramater definition name\n",
    " \n",
    "\n",
    "## Get the map coordinates of the UL corner\n",
    "\n",
    "If you are looking for the map coordinates (in meters) of the upper left corner of the grid, you can obtain them from the valid_range attributes of the x and y dimension variables, like this:\n"
   ]
  },
  {
   "cell_type": "code",
   "execution_count": null,
   "metadata": {
    "collapsed": false
   },
   "outputs": [],
   "source": [
    "print f.variables['y'], f.variables['x']"
   ]
  },
  {
   "cell_type": "markdown",
   "metadata": {},
   "source": [
    "The left edge of the x dimension is (in meters) -17367530.44. and the top edge of the y dimension is 6756820.2, so the projected map coordinates of the upper left corner of the upper left cell is [x, y] = [-17367530.44 m, 6756820.2 m]"
   ]
  },
  {
   "cell_type": "markdown",
   "metadata": {},
   "source": [
    "## Read and display a TB array\n",
    "\n",
    "The dimension variables x and y indicate that this data is a square array that is 4320 rows by 11104 cols.  To read the 4320x11104 TB array into memory, use:"
   ]
  },
  {
   "cell_type": "code",
   "execution_count": null,
   "metadata": {
    "collapsed": false
   },
   "outputs": [],
   "source": [
    "data = f.variables['TB'][:]\n",
    "print np.shape(data), np.amin(data), np.amax(data)"
   ]
  },
  {
   "cell_type": "markdown",
   "metadata": {},
   "source": [
    "We have stored each data array with a single time dimension for the date in order to facilitate netCDF tools that allow data across many files to be concatenated by date.  To work just with the 2D array of data, you can use the numpy \"squeeze\" function like this (notice that the degenerate first dimension for time has now been removed and you are left with a 2D array):"
   ]
  },
  {
   "cell_type": "code",
   "execution_count": null,
   "metadata": {
    "collapsed": false
   },
   "outputs": [],
   "source": [
    "data = np.squeeze(data)\n",
    "print np.shape(data)"
   ]
  },
  {
   "cell_type": "markdown",
   "metadata": {},
   "source": [
    "## Get the date of the data in this file\n",
    "\n",
    "You can get the date of the data in this file several ways.  The easiest, human-readable form is in the file attribute \"comment\".  At this point the comment attribute only has the date in it, but over time the comment variable might get more difficult to parse, since tools like NetCDF Command-Line Operators often append to this string when called on a given file.  For now, the comment contains just the epoch date string:"
   ]
  },
  {
   "cell_type": "code",
   "execution_count": null,
   "metadata": {
    "collapsed": false
   },
   "outputs": [],
   "source": [
    "f.comment"
   ]
  },
  {
   "cell_type": "markdown",
   "metadata": {},
   "source": [
    "A more machine-readable way to access the date is in the time coordinate variable contents:"
   ]
  },
  {
   "cell_type": "code",
   "execution_count": null,
   "metadata": {
    "collapsed": false
   },
   "outputs": [],
   "source": [
    "d = f.variables['time']\n",
    "date = d[:]\n",
    "print d\n",
    "print date\n"
   ]
  },
  {
   "cell_type": "markdown",
   "metadata": {},
   "source": [
    "Note that this date is encoded as \"days since 1972-01-01\".  To convert the stored number in the time array to a Gregorian date, use the num2date function imported from the netCDF4 package, and use the strftime function to format it as a string however you specify with the formatting string you input to strftime:"
   ]
  },
  {
   "cell_type": "code",
   "execution_count": null,
   "metadata": {
    "collapsed": false
   },
   "outputs": [],
   "source": [
    "greg_date = num2date(date[:],units=d.units,calendar=d.calendar)\n",
    "print(greg_date)\n",
    "print greg_date[0].strftime(\"%Y-%m-%d\")\n",
    "print greg_date[0].strftime(\"%b %d %Y\")"
   ]
  },
  {
   "cell_type": "markdown",
   "metadata": {},
   "source": [
    "## Display the TB array\n",
    "\n",
    "Next, to display the brightness temperatures in this data array as an image, use imshow:"
   ]
  },
  {
   "cell_type": "code",
   "execution_count": null,
   "metadata": {
    "collapsed": false
   },
   "outputs": [],
   "source": [
    "fig, ax = plt.subplots(1,1, figsize=(12,5))\n",
    "ax.set_title(\"%s (%s)\" % \n",
    "             (os.path.basename(filename), greg_date[0].strftime(\"%Y-%m-%d\")))\n",
    "plt.imshow(data, cmap='viridis', vmin=np.amin(data), vmax=np.amax(data), interpolation='nearest')\n",
    "plt.axis('off')\n",
    "plt.colorbar(shrink=0.75,label='TB')\n",
    "plt.tight_layout()"
   ]
  },
  {
   "cell_type": "markdown",
   "metadata": {},
   "source": [
    "## Display the number of measurement samples used for each cell in the image reconstruction\n",
    "\n",
    "Similarly, the number of samples used to derive each grid cell in the image reconstruction is in the variable TB_num_samples, which can be read and displayed like this:"
   ]
  },
  {
   "cell_type": "code",
   "execution_count": null,
   "metadata": {
    "collapsed": true
   },
   "outputs": [],
   "source": [
    "num = np.squeeze(f.variables['TB_num_samples'][:])"
   ]
  },
  {
   "cell_type": "code",
   "execution_count": null,
   "metadata": {
    "collapsed": false,
    "scrolled": false
   },
   "outputs": [],
   "source": [
    "fig, ax = plt.subplots(1,1, figsize=(12,5))\n",
    "ax.set_title(\"%s (%s)\" % \n",
    "             (os.path.basename(filename), greg_date[0].strftime(\"%Y-%m-%d\")))\n",
    "plt.imshow(num, cmap=plt.cm.gray, vmin=np.amin(num), vmax=np.amax(num), interpolation='nearest')\n",
    "plt.axis('off')\n",
    "plt.colorbar(shrink=0.75, label='Num')\n",
    "plt.tight_layout()"
   ]
  },
  {
   "cell_type": "markdown",
   "metadata": {},
   "source": [
    "## Doing (row,col) <--> (lat, lon) map transformations\n",
    "\n",
    "The python package cetbtools contains transformation routines for lat,lon <--> x,y <--> row,col coordinates of locations in the EASE-Grid 2.0 CETB grids.  \n",
    "\n",
    "cetbtools is distributed via the anaconda.org package distribution system.  You can install the package on your machine using this command in your local conda env:\n",
    "\n",
    "conda install -c https://conda.anaconda.org/nsidc cetbtools\n",
    "\n",
    "This package is currently available for python on mac OS X and linux platforms.\n",
    "\n",
    "Assuming you have cetbtools installed, you should be able to import it into the notebook:"
   ]
  },
  {
   "cell_type": "code",
   "execution_count": null,
   "metadata": {
    "collapsed": false
   },
   "outputs": [],
   "source": [
    "from cetbtools.ease2conv import Ease2Transform"
   ]
  },
  {
   "cell_type": "markdown",
   "metadata": {},
   "source": [
    "You can access the help and information about the Ease2Transform class:"
   ]
  },
  {
   "cell_type": "code",
   "execution_count": null,
   "metadata": {
    "collapsed": false
   },
   "outputs": [],
   "source": [
    "help(Ease2Transform)"
   ]
  },
  {
   "cell_type": "markdown",
   "metadata": {},
   "source": [
    "Getting back to the file we have just opened, in order to get the row, col coordinates of a pixel at a specific location, we can initialize an Ease2Transform object with the long_name of the grid in this file.  The initializer for this class need only be called once, and then the \"geographic_to_grid\" or \"grid_to_geographic\" methods can be called repeatedly.  The initializer takes one input argument, the NSIDC mapx name for the projection and grid that is stored in the crs.long_name attribute we examined earlier:"
   ]
  },
  {
   "cell_type": "code",
   "execution_count": null,
   "metadata": {
    "collapsed": false
   },
   "outputs": [],
   "source": [
    "print crs.long_name"
   ]
  },
  {
   "cell_type": "code",
   "execution_count": null,
   "metadata": {
    "collapsed": false
   },
   "outputs": [],
   "source": [
    "grid = Ease2Transform(crs.long_name)"
   ]
  },
  {
   "cell_type": "markdown",
   "metadata": {},
   "source": [
    "The Ease2Transform method \"geographic_to_grid\" can be used to transform a (lat, lon) coordinate to (row, col).  The returned values for row, col will be real-valued, and need to be rounded (up at 0.5) to get the integer values of row, col that can be used to index into the data arrays:"
   ]
  },
  {
   "cell_type": "code",
   "execution_count": null,
   "metadata": {
    "collapsed": false
   },
   "outputs": [],
   "source": [
    "lat = 40. # latitude in decimal degrees\n",
    "lon = -95.  # longitude in decimal degress\n",
    "(row, col) = grid.geographic_to_grid(lat, lon)\n",
    "print row, col\n",
    "(irow, icol) = (int(round(row)), int(round(col)))\n",
    "print irow, icol"
   ]
  },
  {
   "cell_type": "code",
   "execution_count": null,
   "metadata": {
    "collapsed": false
   },
   "outputs": [],
   "source": [
    "print \"TB at (40.0N, 95.0W) is: %f K\" % data[irow, icol]\n",
    "print \"Num samples used: %d\" % num[irow, icol]"
   ]
  },
  {
   "cell_type": "markdown",
   "metadata": {},
   "source": [
    "Use grid_to_geographic to transform a (row, col) coordinate to (lat, lon):"
   ]
  },
  {
   "cell_type": "code",
   "execution_count": null,
   "metadata": {
    "collapsed": false
   },
   "outputs": [],
   "source": [
    "print grid.grid_to_geographic(row,col)"
   ]
  },
  {
   "cell_type": "markdown",
   "metadata": {},
   "source": [
    "Lastly, remember to close the netCDF file:"
   ]
  },
  {
   "cell_type": "code",
   "execution_count": null,
   "metadata": {
    "collapsed": true
   },
   "outputs": [],
   "source": [
    "f.close()"
   ]
  },
  {
   "cell_type": "markdown",
   "metadata": {},
   "source": [
    "Combining many of the previous steps, I can also read one of the Northern Hemisphere files, like this:"
   ]
  },
  {
   "cell_type": "code",
   "execution_count": null,
   "metadata": {
    "collapsed": true
   },
   "outputs": [],
   "source": [
    "filename = \"NSIDC-0630-EASE2_N3.125km-F08_SSMI-1987305-37H-M-SIR-CSU-v1.1.nc\"\n",
    "f = Dataset(filename, \"r\", format=\"NETCDF4\")\n",
    "data = f.variables['TB'][:]\n",
    "data = np.squeeze(data)\n",
    "num = f.variables['TB_num_samples'][:]\n",
    "num = np.squeeze(num)"
   ]
  },
  {
   "cell_type": "code",
   "execution_count": null,
   "metadata": {
    "collapsed": false,
    "scrolled": true
   },
   "outputs": [],
   "source": [
    "from mpl_toolkits.axes_grid1 import make_axes_locatable\n",
    "\n",
    "fig, ax = plt.subplots(1,2, figsize=(12,5))\n",
    "fig.suptitle(\"%s (%s)\" % (\n",
    "        os.path.basename(filename), greg_date[0].strftime(\"%Y-%m-%d\")))\n",
    "ax[0].axis('off')\n",
    "dataAx = ax[0].imshow(data, cmap='viridis', vmin=np.amin(data), vmax=np.amax(data), interpolation='nearest',\n",
    "                     aspect='equal')\n",
    "divider0 = make_axes_locatable(ax[0])\n",
    "cax0 = divider0.append_axes(\"right\", size=\"8%\", pad=0.08)\n",
    "dataCbar = plt.colorbar(dataAx, cax=cax0, label='TB')\n",
    "ax[0].axis('off')\n",
    "\n",
    "numAx = ax[1].imshow(num, cmap=plt.cm.gray, vmin=np.amin(num), vmax=np.amax(num), interpolation='nearest',\n",
    "                    aspect='equal')\n",
    "divider1 = make_axes_locatable(ax[1])\n",
    "cax1 = divider1.append_axes(\"right\", size=\"8%\", pad=0.08)\n",
    "numCbar = plt.colorbar(numAx, cax=cax1, label='Num')\n",
    "ax[1].axis('off')\n",
    "\n",
    "plt.tight_layout()\n",
    "plt.subplots_adjust(top=0.95)\n",
    "plt.show()\n"
   ]
  },
  {
   "cell_type": "code",
   "execution_count": null,
   "metadata": {
    "collapsed": true
   },
   "outputs": [],
   "source": [
    "f.close()"
   ]
  },
  {
   "cell_type": "markdown",
   "metadata": {
    "collapsed": true
   },
   "source": [
    "Feel free to contact me with questions about the data or this tutorial: brodzik_at_nsidc.org."
   ]
  },
  {
   "cell_type": "code",
   "execution_count": null,
   "metadata": {
    "collapsed": true
   },
   "outputs": [],
   "source": []
  }
 ],
 "metadata": {
  "kernelspec": {
   "display_name": "Python 2",
   "language": "python",
   "name": "python2"
  },
  "language_info": {
   "codemirror_mode": {
    "name": "ipython",
    "version": 2
   },
   "file_extension": ".py",
   "mimetype": "text/x-python",
   "name": "python",
   "nbconvert_exporter": "python",
   "pygments_lexer": "ipython2",
   "version": "2.7.12"
  }
 },
 "nbformat": 4,
 "nbformat_minor": 0
}
